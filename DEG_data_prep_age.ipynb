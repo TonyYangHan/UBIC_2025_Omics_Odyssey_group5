{
 "cells": [
  {
   "cell_type": "code",
   "execution_count": 5,
   "id": "1c2a819e-73ab-4b66-b32a-80cb202968fa",
   "metadata": {},
   "outputs": [],
   "source": [
    "import scanpy as sc, matplotlib.pyplot as plt, seaborn as sns, numpy as np, pandas as pd, os\n",
    "from collections import defaultdict\n",
    "from joblib import Parallel, delayed\n",
    "from multiprocessing import Pool, cpu_count"
   ]
  },
  {
   "cell_type": "code",
   "execution_count": 2,
   "id": "dd8718f0-2dd6-4981-827f-05d97d22efc8",
   "metadata": {},
   "outputs": [],
   "source": [
    "adata = sc.read_h5ad(\"bipolar_raw.h5ad\")"
   ]
  },
  {
   "cell_type": "code",
   "execution_count": 3,
   "id": "ffae507e-666d-4256-892a-a540412578a3",
   "metadata": {},
   "outputs": [
    {
     "data": {
      "text/plain": [
       "AnnData object with n_obs × n_vars = 147523 × 32034\n",
       "    obs: 'nCount_RNA', 'nFeature_RNA', 'percent.mt', 'pANN', 'sampleid', 'age', 'gender', 'reference', 'accession', 'sample_note', 'subclass_label', 'author_cell_type', 'development_stage_ontology_term_id', 'tissue_ontology_term_id', 'assay_ontology_term_id', 'disease_ontology_term_id', 'donor_id', 'organism_ontology_term_id', 'self_reported_ethnicity_ontology_term_id', 'sex_ontology_term_id', 'suspension_type', 'tissue_type', 'library_platform', 'cell_type_ontology_term_id', 'is_primary_data', 'cell_type', 'assay', 'disease', 'organism', 'sex', 'tissue', 'self_reported_ethnicity', 'development_stage', 'observation_joinid'\n",
       "    var: 'gene_symbols', 'feature_is_filtered', 'feature_name', 'feature_reference', 'feature_biotype', 'feature_length', 'feature_type'\n",
       "    uns: 'citation', 'default_embedding', 'schema_reference', 'schema_version', 'title'\n",
       "    obsm: 'X_pca', 'X_scVI', 'X_umap'"
      ]
     },
     "execution_count": 3,
     "metadata": {},
     "output_type": "execute_result"
    }
   ],
   "source": [
    "adata"
   ]
  },
  {
   "cell_type": "markdown",
   "id": "bad4fec4-0fa7-47f7-af43-b9c11478b3aa",
   "metadata": {},
   "source": [
    "### Cell type markers identification (just in case)"
   ]
  },
  {
   "cell_type": "code",
   "execution_count": 5,
   "id": "2c68e58f-4cdb-4563-b27c-f7ce37b25e39",
   "metadata": {},
   "outputs": [],
   "source": [
    "sc.tl.rank_genes_groups(adata, groupby = 'cell_type', method = \"wilcoxon\", use_raw = False)"
   ]
  },
  {
   "cell_type": "code",
   "execution_count": 11,
   "id": "c3c16f9c-3d4a-4f1c-8279-42789eb06161",
   "metadata": {},
   "outputs": [],
   "source": [
    "result = adata.uns['rank_genes_groups']\n",
    "groups = result['names'].dtype.names\n",
    "for group in groups:\n",
    "    df = pd.DataFrame({\n",
    "        'gene': result['names'][group],\n",
    "        'logfoldchanges': result['logfoldchanges'][group],\n",
    "        'pvals': result['pvals'][group],\n",
    "        'pvals_adj': result['pvals_adj'][group],\n",
    "        'scores': result['scores'][group],\n",
    "    })\n",
    "    df.to_csv(f'results/cell_type_deg_rank_gene/deg_{group}.csv', index=False)"
   ]
  },
  {
   "cell_type": "markdown",
   "id": "e2107116-252b-4280-b2ab-c65bd86aa38f",
   "metadata": {},
   "source": [
    "### Age DEG oldest vs youngest"
   ]
  },
  {
   "cell_type": "markdown",
   "id": "202f192c-0395-4f59-80d6-0be97a1580c8",
   "metadata": {},
   "source": [
    "Mus musculus typically go fully mature at Week 8. Comparing it to early development stage (P17, 17 days postnatal)"
   ]
  },
  {
   "cell_type": "code",
   "execution_count": null,
   "id": "b5308c04-7509-4692-ac65-fbcc45bd905a",
   "metadata": {},
   "outputs": [],
   "source": [
    "cell_types = adata.obs[\"cell_type\"].unique().tolist()\n",
    "for cell_type in cell_types:\n",
    "    adata_sub = adata[\n",
    "        (adata.obs['cell_type'] == cell_type) &\n",
    "        (adata.obs['age'].isin(['W8', 'P17']))\n",
    "    ].copy()\n",
    "    \n",
    "    # Use raw counts if available\n",
    "    adata_sub.X = adata_sub.raw.X\n",
    "    \n",
    "    # Create pseudobulk by donor within each age\n",
    "    grouped_counts = {}\n",
    "    meta = []\n",
    "    \n",
    "    for (age, donor), idx in adata_sub.obs.groupby(['age', 'donor_id']).groups.items():\n",
    "        pseudobulk = np.asarray(adata_sub[idx].X.sum(axis=0)).flatten()\n",
    "        sample_name = f\"{donor}_{age}\"\n",
    "        grouped_counts[sample_name] = pseudobulk\n",
    "        meta.append({'sample': sample_name, 'age': age, 'donor': donor})\n",
    "    \n",
    "    # Convert to DataFrame\n",
    "    counts_df = pd.DataFrame(grouped_counts).T  # samples x genes\n",
    "    counts_df.columns = adata_sub.var_names\n",
    "    counts_df = counts_df.T  # genes x samples\n",
    "    \n",
    "    meta_df = pd.DataFrame(meta)\n",
    "    \n",
    "    # Save\n",
    "    counts_df.to_csv(f\"results/age_deg_edgeR/counts/counts_{cell_type}.csv\")\n",
    "    meta_df.to_csv(f\"results/age_deg_edgeR/meta_data/meta_{cell_type}.csv\", index=False)"
   ]
  },
  {
   "cell_type": "code",
   "execution_count": 8,
   "id": "1ce6704e-6f82-45b3-8b82-823d1c5a5414",
   "metadata": {},
   "outputs": [
    {
     "name": "stdout",
     "output_type": "stream",
     "text": [
      "✅ Finished rod bipolar cell\n",
      "✅ Finished type 6 cone bipolar cell (sensu Mus)\n",
      "✅ Finished type 5a cone bipolar cell\n",
      "✅ Finished type 3b cone bipolar cell\n",
      "✅ Finished type 5 cone bipolar cell (sensu Mus)\n",
      "✅ Finished type 5b cone bipolar cell\n",
      "✅ Finished type 9 cone bipolar cell (sensu Mus)\n",
      "✅ Finished type 3a cone bipolar cell\n",
      "✅ Finished type 8 cone bipolar cell (sensu Mus)\n",
      "✅ Finished type 7 cone bipolar cell (sensu Mus)\n",
      "✅ Finished type 4 cone bipolar cell (sensu Mus)\n",
      "✅ Finished type 1 cone bipolar cell (sensu Mus)\n",
      "✅ Finished type 2 cone bipolar cell (sensu Mus)\n"
     ]
    }
   ],
   "source": [
    "cell_types = adata.obs[\"cell_type\"].unique().tolist()\n",
    "def process_cell_type(cell_type):\n",
    "    adata_sub = adata[\n",
    "        (adata.obs['cell_type'] == cell_type) &\n",
    "        (adata.obs['age'].isin(['W8', 'P17']))\n",
    "    ].copy()\n",
    "\n",
    "    # Use raw counts if available\n",
    "    adata_sub.X = adata_sub.raw.X\n",
    "\n",
    "    grouped_counts = {}\n",
    "    meta = []\n",
    "\n",
    "    for (age, donor), idx in adata_sub.obs.groupby(['age', 'donor_id'], observed = True).groups.items():\n",
    "        pseudobulk = np.asarray(adata_sub[idx].X.sum(axis=0)).flatten()\n",
    "        sample_name = f\"{donor}_{age}\"\n",
    "        grouped_counts[sample_name] = pseudobulk\n",
    "        meta.append({'sample': sample_name, 'age': age, 'donor': donor})\n",
    "\n",
    "    counts_df = pd.DataFrame(grouped_counts).T  # samples x genes\n",
    "    counts_df.columns = adata_sub.var_names\n",
    "    counts_df = counts_df.T  # genes x samples\n",
    "\n",
    "    meta_df = pd.DataFrame(meta)\n",
    "\n",
    "    # Save\n",
    "    counts_df.to_csv(f\"results/age_deg_edgeR/counts/counts_{cell_type}.csv\")\n",
    "    meta_df.to_csv(f\"results/age_deg_edgeR/meta_data/meta_{cell_type}.csv\", index=False)\n",
    "\n",
    "    return f\"✅ Finished {cell_type}\"\n",
    "\n",
    "with Pool(processes=min(cpu_count(), len(cell_types))) as pool:\n",
    "        results = pool.map(process_cell_type, cell_types)\n",
    "print(\"\\n\".join(results))"
   ]
  },
  {
   "cell_type": "code",
   "execution_count": 9,
   "id": "42ac9d4c-cbbc-428a-a1c8-002d63007835",
   "metadata": {},
   "outputs": [],
   "source": [
    "cell_types = adata.obs[\"cell_type\"].unique().tolist()"
   ]
  },
  {
   "cell_type": "code",
   "execution_count": 10,
   "id": "617c2258-111c-4cf3-acf5-50a3df44b1f7",
   "metadata": {},
   "outputs": [
    {
     "data": {
      "text/plain": [
       "['rod bipolar cell',\n",
       " 'type 6 cone bipolar cell (sensu Mus)',\n",
       " 'type 5a cone bipolar cell',\n",
       " 'type 3b cone bipolar cell',\n",
       " 'type 5 cone bipolar cell (sensu Mus)',\n",
       " 'type 5b cone bipolar cell',\n",
       " 'type 9 cone bipolar cell (sensu Mus)',\n",
       " 'type 3a cone bipolar cell',\n",
       " 'type 8 cone bipolar cell (sensu Mus)',\n",
       " 'type 7 cone bipolar cell (sensu Mus)',\n",
       " 'type 4 cone bipolar cell (sensu Mus)',\n",
       " 'type 1 cone bipolar cell (sensu Mus)',\n",
       " 'type 2 cone bipolar cell (sensu Mus)']"
      ]
     },
     "execution_count": 10,
     "metadata": {},
     "output_type": "execute_result"
    }
   ],
   "source": [
    "cell_types"
   ]
  },
  {
   "cell_type": "markdown",
   "id": "093393cf-53ab-49c1-b887-6937e0d6d4b6",
   "metadata": {},
   "source": [
    "### Save all expressed genes as background"
   ]
  },
  {
   "cell_type": "code",
   "execution_count": 16,
   "id": "e67a7d22-af0c-4922-ad7d-547f57007bfa",
   "metadata": {},
   "outputs": [],
   "source": [
    "raw_counts = adata.raw.X\n",
    "gene_names = adata.raw.var_names\n",
    "\n",
    "# If sparse, convert row sums properly\n",
    "if hasattr(raw_counts, \"sum\"):  # sparse matrix\n",
    "    gene_sums = np.array(raw_counts.sum(axis=0)).flatten()\n",
    "else:  # dense\n",
    "    gene_sums = raw_counts.sum(axis=0)\n",
    "\n",
    "# Background genes = expressed in at least 1 cell\n",
    "bkgnd_genes = gene_names[gene_sums > 0].tolist()\n",
    "bkgnd_df = pd.DataFrame({\"expressed_genes\":bkgnd_genes})\n",
    "bkgnd_df.to_csv(\"results/expressed_genes.csv\", index = False)"
   ]
  },
  {
   "cell_type": "code",
   "execution_count": null,
   "id": "11b960e4-fa77-4b4b-85cd-b0edb29f2afc",
   "metadata": {},
   "outputs": [],
   "source": []
  }
 ],
 "metadata": {
  "kernelspec": {
   "display_name": "Python 3 (ipykernel)",
   "language": "python",
   "name": "python3"
  },
  "language_info": {
   "codemirror_mode": {
    "name": "ipython",
    "version": 3
   },
   "file_extension": ".py",
   "mimetype": "text/x-python",
   "name": "python",
   "nbconvert_exporter": "python",
   "pygments_lexer": "ipython3",
   "version": "3.13.3"
  }
 },
 "nbformat": 4,
 "nbformat_minor": 5
}
